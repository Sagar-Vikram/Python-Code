{
 "cells": [
  {
   "cell_type": "markdown",
   "metadata": {},
   "source": [
    "# Python basic Programming Assignment 4"
   ]
  },
  {
   "cell_type": "code",
   "execution_count": null,
   "metadata": {},
   "outputs": [],
   "source": [
    "## Write a Python Program to Find the Factorial of a Number?\n",
    "\n",
    "\n",
    "def factorial(num):\n",
    "    product = 1\n",
    "    for i in range(1,num+1):\n",
    "        product = product * i\n",
    "    return product\n",
    "num = int(input(\"Enter the Number: \"))\n",
    "factorial(num)"
   ]
  },
  {
   "cell_type": "code",
   "execution_count": null,
   "metadata": {},
   "outputs": [],
   "source": [
    "## Write a Python Program to Display the multiplication Table?\n",
    "\n",
    "\n",
    "def table(num):\n",
    "    for i in range(1,11):\n",
    "        product = num * i\n",
    "        print(\"{} * {} = {}\".format(num,i,product))\n",
    "num = int(input(\"Enter the Number: \"))\n",
    "table(num)"
   ]
  },
  {
   "cell_type": "code",
   "execution_count": null,
   "metadata": {},
   "outputs": [],
   "source": [
    "## Write a Python Program to Print the Fibonacci sequence?\n",
    "\n",
    "\n",
    "def fabonacci(num):## 1 1 2 3 5 8 13\n",
    "    num1,num2 = 0,1\n",
    "    list = []\n",
    "    if num <= 0:\n",
    "        print(\"Enter +ve number\")\n",
    "    elif num == 1:\n",
    "        print(num1)\n",
    "    else:\n",
    "        for i in range(num):\n",
    "            list.append(num1)\n",
    "            num3 = num1 + num2\n",
    "            num1 = num2\n",
    "            num2 = num3\n",
    "    print(list)       \n",
    "num = int(input(\"Enter the nth term: \"))\n",
    "fabonacci(num)"
   ]
  },
  {
   "cell_type": "code",
   "execution_count": null,
   "metadata": {},
   "outputs": [],
   "source": [
    "## Write a Python Program to Check Armstrong Number?\n",
    "\n",
    "\n",
    "def armstrong(num):\n",
    "    temp = num\n",
    "    sum = 0\n",
    "    while(temp > 0):\n",
    "        value = temp % 10\n",
    "        sum = sum + value**3\n",
    "        temp = temp//10\n",
    "    if num == sum:\n",
    "        print(\"Armstrong Number\")\n",
    "    else:\n",
    "        print(\"Not a Armstrong Number\")\n",
    "num = int(input(\"Enter the Number: \"))\n",
    "armstrong(num)"
   ]
  },
  {
   "cell_type": "code",
   "execution_count": 7,
   "metadata": {},
   "outputs": [
    {
     "name": "stdout",
     "output_type": "stream",
     "text": [
      "Enter the Number: 500\n",
      "Armstrong Number in a range(1 to 500) is:  [0, 1, 153, 370, 371, 407]\n"
     ]
    }
   ],
   "source": [
    "## Write a Python Program to Find Armstrong Number in an Interval?\n",
    "\n",
    "\n",
    "def armstrong_range(num):\n",
    "    list = []\n",
    "    for i in range(num):\n",
    "        temp = i\n",
    "        sum = 0\n",
    "        while(temp > 0):\n",
    "            value = temp % 10\n",
    "            sum = sum + value**3\n",
    "            temp = temp//10\n",
    "        if i == sum:\n",
    "            list.append(i)\n",
    "        else:\n",
    "            continue\n",
    "    print(\"Armstrong Number in a range(1 to {}) is: \".format(num),list)\n",
    "num = int(input(\"Enter the Number: \"))\n",
    "armstrong_range(num)\n",
    "    "
   ]
  },
  {
   "cell_type": "code",
   "execution_count": 16,
   "metadata": {},
   "outputs": [
    {
     "name": "stdout",
     "output_type": "stream",
     "text": [
      "Enter the range: 0\n",
      "Enter +ve number\n"
     ]
    }
   ],
   "source": [
    "## Write a Python Program to Find the Sum of Natural Numbers?\n",
    "\n",
    "\n",
    "def total_natural(num):\n",
    "    sum = 0\n",
    "    if num <= 0:\n",
    "        print(\"Enter +ve number\")\n",
    "    else:\n",
    "        for i in range(num+1):\n",
    "            sum = sum + i\n",
    "        return sum\n",
    "num = int(input(\"Enter the range: \"))\n",
    "total_natural(num)"
   ]
  },
  {
   "cell_type": "code",
   "execution_count": null,
   "metadata": {},
   "outputs": [],
   "source": []
  }
 ],
 "metadata": {
  "kernelspec": {
   "display_name": "Python 3",
   "language": "python",
   "name": "python3"
  },
  "language_info": {
   "codemirror_mode": {
    "name": "ipython",
    "version": 3
   },
   "file_extension": ".py",
   "mimetype": "text/x-python",
   "name": "python",
   "nbconvert_exporter": "python",
   "pygments_lexer": "ipython3",
   "version": "3.7.6"
  }
 },
 "nbformat": 4,
 "nbformat_minor": 4
}

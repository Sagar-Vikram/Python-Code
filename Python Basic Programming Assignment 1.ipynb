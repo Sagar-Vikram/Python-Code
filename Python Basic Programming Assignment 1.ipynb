{
 "cells": [
  {
   "cell_type": "markdown",
   "metadata": {},
   "source": [
    "# Python Basic Programming Assignment 1"
   ]
  },
  {
   "cell_type": "code",
   "execution_count": null,
   "metadata": {},
   "outputs": [],
   "source": [
    "## Write a Python program to print \"Hello Python\"?\n",
    "\n",
    "print(\"Hello Python\")"
   ]
  },
  {
   "cell_type": "code",
   "execution_count": null,
   "metadata": {},
   "outputs": [],
   "source": [
    "## Write a Python program to do arithmetical operations addition and division.?\n",
    "\n",
    "def addition(*args):\n",
    "    sum = 0\n",
    "    for i in range(len(args)):\n",
    "        sum = sum + args[i]\n",
    "    return sum\n",
    "def substration(input1,input2):\n",
    "    diff = input1-input2\n",
    "    return diff\n",
    "def multiplication(*args):\n",
    "    product = 1\n",
    "    for i in range(len(args)):\n",
    "        product = product * args[i]\n",
    "    return product\n",
    "def division(input1,input2):\n",
    "    div = input1/input2\n",
    "    return div"
   ]
  },
  {
   "cell_type": "code",
   "execution_count": null,
   "metadata": {},
   "outputs": [],
   "source": [
    "## Write a Python program to find the area of a triangle?\n",
    "\n",
    "def area_triangle(side1,side2,side3):\n",
    "    s = (side1+side2+side3)/2\n",
    "    area = (s*(s-side1)*(s-side2)*(s-side3))**0.5\n",
    "    return round(area,2)\n",
    "area_triangle(3,4,5)"
   ]
  },
  {
   "cell_type": "code",
   "execution_count": null,
   "metadata": {},
   "outputs": [],
   "source": [
    "## Write a Python program to swap two variables?\n",
    "\n",
    "def swap(var_1,var_2):\n",
    "    var_1,var_2=var_2,var_1\n",
    "    return var_1,var_2\n",
    "swap(1,2)\n",
    "    "
   ]
  },
  {
   "cell_type": "code",
   "execution_count": null,
   "metadata": {},
   "outputs": [],
   "source": [
    "## Write a Python program to generate a random number?\n",
    "\n",
    "print(random.randrange(0,9))## range from 0 to 9"
   ]
  },
  {
   "cell_type": "code",
   "execution_count": null,
   "metadata": {},
   "outputs": [],
   "source": []
  }
 ],
 "metadata": {
  "kernelspec": {
   "display_name": "Python 3",
   "language": "python",
   "name": "python3"
  },
  "language_info": {
   "codemirror_mode": {
    "name": "ipython",
    "version": 3
   },
   "file_extension": ".py",
   "mimetype": "text/x-python",
   "name": "python",
   "nbconvert_exporter": "python",
   "pygments_lexer": "ipython3",
   "version": "3.7.6"
  }
 },
 "nbformat": 4,
 "nbformat_minor": 4
}

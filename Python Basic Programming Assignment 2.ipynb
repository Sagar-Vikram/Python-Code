{
 "cells": [
  {
   "cell_type": "markdown",
   "metadata": {},
   "source": [
    "# Python Basic Programming Assignment 2"
   ]
  },
  {
   "cell_type": "code",
   "execution_count": null,
   "metadata": {},
   "outputs": [],
   "source": [
    "## Write a Python program to convert kilometers to miles?\n",
    "\n",
    "def convert(kilometer):\n",
    "    miles = kilometer * 0.621371 ## 1km = 1/1.609344 miles therefore 1/1.609344 = 0.621371\n",
    "    return print(\"{} Kilometer equal to {} miles\".format(kilometer,round(miles,3)))\n",
    "kilometer = float(input(\"Enter the kilometer: \"))\n",
    "convert(kilometer)"
   ]
  },
  {
   "cell_type": "code",
   "execution_count": null,
   "metadata": {},
   "outputs": [],
   "source": [
    "## Write a Python program to convert Celsius to Fahrenheit?\n",
    "\n",
    "def temperature(celsius):\n",
    "    fahrenheit = (celsius * (9/5)) + 32\n",
    "    return print(\"{} Celsius equal to {} fahrenheit\".format(celsius,round(fahrenheit,3)))\n",
    "celsius = float(input(\"Enter the celsius: \"))\n",
    "temperature(celsius)"
   ]
  },
  {
   "cell_type": "code",
   "execution_count": null,
   "metadata": {},
   "outputs": [],
   "source": [
    "## Write a Python program to display calendar?\n",
    "\n",
    "import calendar\n",
    "year = int(input(\"Enter the Year: \"))\n",
    "print(calendar.calendar(year))"
   ]
  },
  {
   "cell_type": "code",
   "execution_count": null,
   "metadata": {},
   "outputs": [],
   "source": [
    "## Write a Python program to solve quadratic equation?\n",
    "import math\n",
    "def quard_eq(a,b,c):\n",
    "    d = b**2 - 4*a*c\n",
    "    sqrt = math.sqrt(abs(d))\n",
    "    if d > 0:\n",
    "        print((-b + sqrt)/(2*a))\n",
    "        print((-b - sqrt)/(2*a))\n",
    "    elif d == 0:\n",
    "        print(-b/(2*a))\n",
    "    else:\n",
    "        print(- b/(2*a), \" + i\", sqrt) \n",
    "        print(- b/(2*a), \" - i\", sqrt)\n",
    "\n",
    "a = float(input(\"Enter value of 'a' (ax**2 + bx + c): \"))        \n",
    "b = float(input(\"Enter value of 'b' (ax**2 + bx + c): \"))\n",
    "c = float(input(\"Enter value of 'c' (ax**2 + bx + c): \"))\n",
    "quard_eq(a,b,c)"
   ]
  },
  {
   "cell_type": "code",
   "execution_count": null,
   "metadata": {},
   "outputs": [],
   "source": [
    "## Write a Python program to swap two variables without temp variable?\n",
    "\n",
    "def swap(var_1,var_2):\n",
    "    var_1,var_2=var_2,var_1\n",
    "    return var_1,var_2\n",
    "swap(1,2)"
   ]
  },
  {
   "cell_type": "code",
   "execution_count": null,
   "metadata": {},
   "outputs": [],
   "source": []
  },
  {
   "cell_type": "code",
   "execution_count": null,
   "metadata": {},
   "outputs": [],
   "source": []
  },
  {
   "cell_type": "code",
   "execution_count": null,
   "metadata": {},
   "outputs": [],
   "source": []
  },
  {
   "cell_type": "code",
   "execution_count": null,
   "metadata": {},
   "outputs": [],
   "source": []
  }
 ],
 "metadata": {
  "kernelspec": {
   "display_name": "Python 3",
   "language": "python",
   "name": "python3"
  },
  "language_info": {
   "codemirror_mode": {
    "name": "ipython",
    "version": 3
   },
   "file_extension": ".py",
   "mimetype": "text/x-python",
   "name": "python",
   "nbconvert_exporter": "python",
   "pygments_lexer": "ipython3",
   "version": "3.7.6"
  }
 },
 "nbformat": 4,
 "nbformat_minor": 4
}
